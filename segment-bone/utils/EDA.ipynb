{
 "cells": [
  {
   "cell_type": "code",
   "execution_count": 1,
   "metadata": {},
   "outputs": [],
   "source": [
    "import os\n",
    "import json\n",
    "import numpy as np\n",
    "import matplotlib.pyplot as plt"
   ]
  },
  {
   "cell_type": "code",
   "execution_count": 34,
   "metadata": {},
   "outputs": [],
   "source": [
    "LABEL_ROOT = \"/data/ephemeral/home/data/train/outputs_json\"\n",
    "CLASSES = [\n",
    "    'finger-1', 'finger-2', 'finger-3', 'finger-4', 'finger-5',\n",
    "    'finger-6', 'finger-7', 'finger-8', 'finger-9', 'finger-10',\n",
    "    'finger-11', 'finger-12', 'finger-13', 'finger-14', 'finger-15',\n",
    "    'finger-16', 'finger-17', 'finger-18', 'finger-19', 'Trapezium',\n",
    "    'Trapezoid', 'Capitate', 'Hamate', 'Scaphoid', 'Lunate',\n",
    "    'Triquetrum', 'Pisiform', 'Radius', 'Ulna',\n",
    "]\n",
    "\n",
    "CLASSES_grouped = [\n",
    "    ['finger-1', 'finger-2', 'finger-3', 'finger-4', 'finger-5',\n",
    "    'finger-6', 'finger-7', 'finger-8', 'finger-9', 'finger-10',\n",
    "    'finger-11', 'finger-12', 'finger-13', 'finger-14', 'finger-15',\n",
    "    'finger-16', 'finger-17', 'finger-18', 'finger-19'],\n",
    "    ['Trapezium', 'Trapezoid', 'Capitate', 'Hamate', 'Scaphoid', 'Lunate',\n",
    "    'Triquetrum', 'Pisiform'], \n",
    "    ['Radius', 'Ulna']\n",
    "]\n",
    "\n",
    "all_points_right = {cls: [] for cls in CLASSES}\n",
    "all_points_left = {cls: [] for cls in CLASSES}\n",
    "\n",
    "jsons = {\n",
    "    os.path.relpath(os.path.join(root, fname), start=LABEL_ROOT)\n",
    "    for root, _dirs, files in os.walk(LABEL_ROOT)\n",
    "    for fname in files\n",
    "    if os.path.splitext(fname)[1].lower() == \".json\"\n",
    "}\n",
    "jsons = sorted(jsons)\n",
    "_labelnames = np.array(jsons)"
   ]
  },
  {
   "cell_type": "markdown",
   "metadata": {},
   "source": [
    "# 손가락, 손등, 팔 히트맵"
   ]
  },
  {
   "cell_type": "code",
   "execution_count": 33,
   "metadata": {},
   "outputs": [],
   "source": [
    "for idx, label_name in enumerate(_labelnames):\n",
    "    label_path = os.path.join(LABEL_ROOT, label_name)\n",
    "\n",
    "    with open(label_path, \"r\") as f:\n",
    "        ann = json.load(f)\n",
    "    ann = ann[\"annotations\"]\n",
    "\n",
    "    if idx % 2 == 0:\n",
    "        for cls in CLASSES:\n",
    "            all_points_right[cls].extend([np.array(ann[i]['points']) for i in range(29) if ann[i]['label'] == cls])\n",
    "    else:\n",
    "        for cls in CLASSES:\n",
    "            all_points_left[cls].extend([np.array(ann[i]['points']) for i in range(29) if ann[i]['label'] == cls])\n",
    "\n",
    "for hand, all_points in zip(['Right', 'Left'], [all_points_right, all_points_left]):\n",
    "    for group_idx, group_classes in enumerate(CLASSES_grouped):\n",
    "        all_points_group = []\n",
    "        for cls in group_classes:\n",
    "            if cls in all_points:\n",
    "                all_points_group.extend(all_points[cls])\n",
    "        if all_points_group:\n",
    "            all_points_group = np.concatenate(all_points_group)\n",
    "            plt.figure(figsize=(2048/100, 2048/100))\n",
    "            x_cls = all_points_group[:, 0]\n",
    "            y_cls = all_points_group[:, 1]\n",
    "            plt.hexbin(x_cls, y_cls, gridsize=100, cmap='inferno', alpha=0.6, mincnt=1)\n",
    "            plt.colorbar(label='Frequency')\n",
    "            plt.title(f'{hand} Hand - Group {group_idx+1}')\n",
    "            plt.xlim(0, 2048)\n",
    "            plt.ylim(0, 2048)\n",
    "            plt.tight_layout()\n",
    "            plt.savefig(f'{hand.lower()}_hand_group_{group_idx+1}_heatmap.png')\n",
    "            plt.close()"
   ]
  }
 ],
 "metadata": {
  "kernelspec": {
   "display_name": "base",
   "language": "python",
   "name": "python3"
  },
  "language_info": {
   "codemirror_mode": {
    "name": "ipython",
    "version": 3
   },
   "file_extension": ".py",
   "mimetype": "text/x-python",
   "name": "python",
   "nbconvert_exporter": "python",
   "pygments_lexer": "ipython3",
   "version": "3.10.13"
  }
 },
 "nbformat": 4,
 "nbformat_minor": 2
}
