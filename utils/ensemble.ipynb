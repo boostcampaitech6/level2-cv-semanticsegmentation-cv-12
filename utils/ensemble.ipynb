{
 "cells": [
  {
   "cell_type": "code",
   "execution_count": null,
   "metadata": {},
   "outputs": [],
   "source": [
    "import os\n",
    "import numpy as np\n",
    "import pandas as pd\n",
    "import copy\n",
    "\n",
    "\n",
    "# 비교할 파일들의 경로 리스트\n",
    "file_paths = [\n",
    "    '/path/to/csv',\n",
    "    '/path/to/csv',\n",
    "    '/path/to/csv',\n",
    "    '/path/to/csv',\n",
    "    '/path/to/csv',\n",
    "    ]\n",
    "\n",
    "SAVE_ROOT = '/data/ephemeral/home'\n",
    "\n",
    "# threshold를 초과한 개수의 픽셀을 앙상블\n",
    "threshold = len(file_paths) // 2\n",
    "print(f'{threshold} 초과를 앙상블합니다.')\n",
    "\n",
    "# 파일들을 담을 빈 리스트\n",
    "dfs = []\n",
    "\n",
    "# 각 파일을 순회하면서 DataFrame 생성 및 리스트에 추가\n",
    "for file_path in file_paths:\n",
    "    if os.path.exists(file_path):  # 파일이 존재하는지 확인\n",
    "        df = pd.read_csv(file_path)\n",
    "        dfs.append(df)\n",
    "    else:\n",
    "        print(f\"{file_path} 파일이 존재하지 않습니다.\")"
   ]
  },
  {
   "cell_type": "code",
   "execution_count": null,
   "metadata": {},
   "outputs": [],
   "source": [
    "def encode_mask_to_rle(mask):\n",
    "    pixels = mask.flatten()\n",
    "    pixels = np.concatenate([[0], pixels, [0]])\n",
    "    runs = np.where(pixels[1:] != pixels[:-1])[0] + 1\n",
    "    runs[1::2] -= runs[::2]\n",
    "    return ' '.join(str(x) for x in runs)\n",
    "\n",
    "def decode_rle_to_mask(rle, height, width):\n",
    "    s = rle.split()\n",
    "    starts, lengths = [np.asarray(x, dtype=int) for x in (s[0:][::2], s[1:][::2])]\n",
    "    starts -= 1\n",
    "    ends = starts + lengths\n",
    "    img = np.zeros(height * width, dtype=np.uint8)\n",
    "\n",
    "    for lo, hi in zip(starts, ends):\n",
    "        img[lo:hi] = 1\n",
    "\n",
    "\n",
    "    return img.reshape(height, width)"
   ]
  },
  {
   "cell_type": "code",
   "execution_count": null,
   "metadata": {},
   "outputs": [],
   "source": [
    "IMAGE_ROOT = \"/data/ephemeral/home/data/test/DCM\"\n",
    "\n",
    "CLASSES = [\n",
    "    'finger-1', 'finger-2', 'finger-3', 'finger-4', 'finger-5',\n",
    "    'finger-6', 'finger-7', 'finger-8', 'finger-9', 'finger-10',\n",
    "    'finger-11', 'finger-12', 'finger-13', 'finger-14', 'finger-15',\n",
    "    'finger-16', 'finger-17', 'finger-18', 'finger-19', 'Trapezium',\n",
    "    'Trapezoid', 'Capitate', 'Hamate', 'Scaphoid', 'Lunate',\n",
    "    'Triquetrum', 'Pisiform', 'Radius', 'Ulna',\n",
    "]\n",
    "\n",
    "pngs = {\n",
    "    os.path.relpath(os.path.join(root, fname), start=IMAGE_ROOT)\n",
    "    for root, _dirs, files in os.walk(IMAGE_ROOT)\n",
    "    for fname in files\n",
    "    if os.path.splitext(fname)[1].lower() == \".png\"\n",
    "}\n",
    "\n",
    "ensemble = {}\n",
    "class_dict = {}\n",
    "\n",
    "height = 2048\n",
    "width = 2048\n",
    "\n",
    "for bone in CLASSES:\n",
    "    class_dict[bone] = np.zeros(height * width, dtype=np.uint8).reshape(height, width)\n",
    "\n",
    "for png in pngs:\n",
    "    ensemble[png[6:]] = copy.deepcopy(class_dict)"
   ]
  },
  {
   "cell_type": "code",
   "execution_count": null,
   "metadata": {},
   "outputs": [],
   "source": [
    "for fold, df in enumerate(dfs):\n",
    "    # 모든 행 순회\n",
    "    for index, row in df.iterrows():\n",
    "        # 각 행에 대해 작업 수행\n",
    "        if not pd.isna(row['rle']):\n",
    "            mask_img = decode_rle_to_mask(row['rle'], height, width)\n",
    "            ensemble[row['image_name']][row['class']] += mask_img\n",
    "        else:\n",
    "            print(f'{fold}fold의 {index}번에 문제 발생!')\n",
    "            print(row)"
   ]
  },
  {
   "cell_type": "code",
   "execution_count": null,
   "metadata": {},
   "outputs": [],
   "source": [
    "for png in pngs:\n",
    "    for bone in CLASSES:\n",
    "        binary_arr = np.where(ensemble[png[6:]][bone] > threshold, 1, 0)\n",
    "        ensemble[png[6:]][bone] = encode_mask_to_rle(binary_arr)\n",
    "\n",
    "# encode 과정이 오래걸립니다. (test set 기준 약 10분)"
   ]
  },
  {
   "cell_type": "code",
   "execution_count": null,
   "metadata": {},
   "outputs": [],
   "source": [
    "image_name = []\n",
    "classes = []\n",
    "rles = []\n",
    "\n",
    "for png in pngs:\n",
    "    for bone in CLASSES:\n",
    "        image_name.append(png[6:])\n",
    "        classes.append(bone)\n",
    "        rles.append(ensemble[png[6:]][bone])\n",
    "\n",
    "df = pd.DataFrame({\n",
    "    \"image_name\": image_name,\n",
    "    \"class\": classes,\n",
    "    \"rle\": rles,\n",
    "})\n",
    "\n",
    "df.to_csv(SAVE_ROOT + \"/output.csv\", index=False)"
   ]
  }
 ],
 "metadata": {
  "kernelspec": {
   "display_name": "base",
   "language": "python",
   "name": "python3"
  },
  "language_info": {
   "codemirror_mode": {
    "name": "ipython",
    "version": 3
   },
   "file_extension": ".py",
   "mimetype": "text/x-python",
   "name": "python",
   "nbconvert_exporter": "python",
   "pygments_lexer": "ipython3",
   "version": "3.10.13"
  }
 },
 "nbformat": 4,
 "nbformat_minor": 2
}
